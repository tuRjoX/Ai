{
  "nbformat": 4,
  "nbformat_minor": 0,
  "metadata": {
    "colab": {
      "provenance": [],
      "collapsed_sections": [
        "rFaV4Z0okl6r",
        "ciISH0zHmSJ6",
        "smKIabaAqhi7"
      ],
      "authorship_tag": "ABX9TyNNurL6e+osIHRwk496XVaO",
      "include_colab_link": true
    },
    "kernelspec": {
      "name": "python3",
      "display_name": "Python 3"
    },
    "language_info": {
      "name": "python"
    }
  },
  "cells": [
    {
      "cell_type": "markdown",
      "metadata": {
        "id": "view-in-github",
        "colab_type": "text"
      },
      "source": [
        "<a href=\"https://colab.research.google.com/github/tuRjoX/Ai/blob/main/Ai_Lab_1.ipynb\" target=\"_parent\"><img src=\"https://colab.research.google.com/assets/colab-badge.svg\" alt=\"Open In Colab\"/></a>"
      ]
    },
    {
      "cell_type": "code",
      "execution_count": null,
      "metadata": {
        "colab": {
          "base_uri": "https://localhost:8080/"
        },
        "id": "xM0G1_VugJLA",
        "outputId": "e2ff970b-9148-467f-918c-67e30d16808b"
      },
      "outputs": [
        {
          "output_type": "stream",
          "name": "stdout",
          "text": [
            "Hello World!\n"
          ]
        }
      ],
      "source": [
        "print(\"Hello World!\")"
      ]
    },
    {
      "cell_type": "code",
      "source": [
        "from google.colab import drive\n",
        "drive.mount('/content/drive')"
      ],
      "metadata": {
        "colab": {
          "base_uri": "https://localhost:8080/"
        },
        "id": "zt1RWCZgiCpN",
        "outputId": "6a4cada9-e97f-4ad5-9683-5f38d8d8cb01"
      },
      "execution_count": null,
      "outputs": [
        {
          "output_type": "stream",
          "name": "stdout",
          "text": [
            "Mounted at /content/drive\n"
          ]
        }
      ]
    },
    {
      "cell_type": "markdown",
      "source": [
        "# **Data Types & Variables**\n",
        "Int\n"
      ],
      "metadata": {
        "id": "rFaV4Z0okl6r"
      }
    },
    {
      "cell_type": "code",
      "source": [
        "a=10\n",
        "print(a)\n",
        "print(type(a))\n",
        "b=2.8\n",
        "print(b)\n",
        "print(type(b))\n"
      ],
      "metadata": {
        "colab": {
          "base_uri": "https://localhost:8080/"
        },
        "id": "s6O_l6J0kwOD",
        "outputId": "ae018cbf-910b-4c85-be72-f41ba8cf8505"
      },
      "execution_count": null,
      "outputs": [
        {
          "output_type": "stream",
          "name": "stdout",
          "text": [
            "10\n",
            "<class 'int'>\n",
            "2.8\n",
            "<class 'float'>\n"
          ]
        }
      ]
    },
    {
      "cell_type": "code",
      "source": [
        "p=True\n",
        "print(p)\n",
        "print(type(p))"
      ],
      "metadata": {
        "colab": {
          "base_uri": "https://localhost:8080/"
        },
        "id": "46tQoBl7lBGM",
        "outputId": "ffabea3c-cf78-4b18-e1f0-66b0ced31a19"
      },
      "execution_count": null,
      "outputs": [
        {
          "output_type": "stream",
          "name": "stdout",
          "text": [
            "True\n",
            "<class 'bool'>\n"
          ]
        }
      ]
    },
    {
      "cell_type": "code",
      "source": [
        "name=\"Turjo Das Dip\"\n",
        "print(name)\n",
        "print(type(name))\n",
        "print(len(name))"
      ],
      "metadata": {
        "colab": {
          "base_uri": "https://localhost:8080/"
        },
        "id": "Ek2kXo-ElOiL",
        "outputId": "e4a7922b-88f1-464d-9310-bd412be40965"
      },
      "execution_count": null,
      "outputs": [
        {
          "output_type": "stream",
          "name": "stdout",
          "text": [
            "Turjo Das Dip\n",
            "<class 'str'>\n",
            "13\n"
          ]
        }
      ]
    },
    {
      "cell_type": "code",
      "source": [
        "fname=\"Turjo\"\n",
        "mname=\"Das\"\n",
        "lname=\"Dip\"\n",
        "print(fname+mname+lname)\n",
        "print(fname,mname,lname)"
      ],
      "metadata": {
        "colab": {
          "base_uri": "https://localhost:8080/"
        },
        "id": "LbMwRpwRlYc7",
        "outputId": "8113f13c-d278-4188-90dc-c684a434642a"
      },
      "execution_count": null,
      "outputs": [
        {
          "output_type": "stream",
          "name": "stdout",
          "text": [
            "TurjoDasDip\n",
            "Turjo Das Dip\n"
          ]
        }
      ]
    },
    {
      "cell_type": "markdown",
      "source": [
        "# **Operator and Expression**\n",
        "Arithmetic\n"
      ],
      "metadata": {
        "id": "ciISH0zHmSJ6"
      }
    },
    {
      "cell_type": "code",
      "source": [
        "a=30\n",
        "b=20\n",
        "print(a+b)\n",
        "print(a-b)\n",
        "print(a*b)\n",
        "print(a/b) # floating division\n",
        "print(a//b) # integer division\n",
        "print(a%b) # remainder\n",
        "print(a**2) # power"
      ],
      "metadata": {
        "colab": {
          "base_uri": "https://localhost:8080/"
        },
        "id": "vne9JGGfmdJj",
        "outputId": "c37adb34-31cd-4176-e3b2-60bfdfc2bda5"
      },
      "execution_count": null,
      "outputs": [
        {
          "output_type": "stream",
          "name": "stdout",
          "text": [
            "50\n",
            "10\n",
            "600\n",
            "1.5\n",
            "1\n",
            "10\n",
            "900\n"
          ]
        }
      ]
    },
    {
      "cell_type": "code",
      "source": [
        "a=10\n",
        "b=20\n",
        "c=30\n",
        "print(a>=b)\n",
        "print(a<b)\n",
        "print(a==b)\n",
        "print(20==20)\n",
        "print(a!=b)\n",
        "\n",
        "print(a>b and b>c)\n",
        "print(a>b & b>c)\n",
        "\n",
        "print(a>b or b>c)\n",
        "print(a>b | b>c)"
      ],
      "metadata": {
        "colab": {
          "base_uri": "https://localhost:8080/"
        },
        "id": "XNdBwawJnQMs",
        "outputId": "e98812de-8371-494f-9b32-a3a15a6184bf"
      },
      "execution_count": null,
      "outputs": [
        {
          "output_type": "stream",
          "name": "stdout",
          "text": [
            "False\n",
            "True\n",
            "False\n",
            "True\n",
            "True\n",
            "False\n",
            "False\n",
            "False\n",
            "False\n"
          ]
        }
      ]
    },
    {
      "cell_type": "markdown",
      "source": [
        "# **Range**"
      ],
      "metadata": {
        "id": "smKIabaAqhi7"
      }
    },
    {
      "cell_type": "code",
      "source": [
        "for i in range(10):\n",
        "  # print(i)\n",
        "  print(\"I Love Python\")"
      ],
      "metadata": {
        "colab": {
          "base_uri": "https://localhost:8080/"
        },
        "id": "_m2f2ymbqjnb",
        "outputId": "303d93c0-70eb-4e95-a2d0-382044e5bffa"
      },
      "execution_count": null,
      "outputs": [
        {
          "output_type": "stream",
          "name": "stdout",
          "text": [
            "I Love Python\n",
            "I Love Python\n",
            "I Love Python\n",
            "I Love Python\n",
            "I Love Python\n",
            "I Love Python\n",
            "I Love Python\n",
            "I Love Python\n",
            "I Love Python\n",
            "I Love Python\n"
          ]
        }
      ]
    },
    {
      "cell_type": "code",
      "source": [
        "for i in range(2,10,2):\n",
        "  print(i, end=\" \")"
      ],
      "metadata": {
        "colab": {
          "base_uri": "https://localhost:8080/"
        },
        "id": "D5i3Caqxrsds",
        "outputId": "6db3ad41-5827-4100-bf54-c5a7b6a6210c"
      },
      "execution_count": null,
      "outputs": [
        {
          "output_type": "stream",
          "name": "stdout",
          "text": [
            "2 4 6 8 "
          ]
        }
      ]
    },
    {
      "cell_type": "code",
      "source": [
        "for i in range(10,2,-2):\n",
        "  print(i, end=\" \")"
      ],
      "metadata": {
        "colab": {
          "base_uri": "https://localhost:8080/"
        },
        "id": "3g5EjrlWsJAk",
        "outputId": "f068aee1-fa41-48dc-ee4b-151d6212c67a"
      },
      "execution_count": null,
      "outputs": [
        {
          "output_type": "stream",
          "name": "stdout",
          "text": [
            "10 8 6 4 "
          ]
        }
      ]
    },
    {
      "cell_type": "markdown",
      "source": [
        "# **List**"
      ],
      "metadata": {
        "id": "tihkr40sqJer"
      }
    },
    {
      "cell_type": "code",
      "source": [
        "L=[10,20,30,40]\n",
        "print(L)\n",
        "\n",
        "for i in range(len(L)):\n",
        "  print(L[i])\n",
        "\n",
        "List=[10,20,30]\n",
        "List.append(100)\n",
        "print(List)\n",
        "\n",
        "List=[10,20,30,100]\n",
        "List.remove(10)\n",
        "print(List)"
      ],
      "metadata": {
        "colab": {
          "base_uri": "https://localhost:8080/"
        },
        "id": "BLKJWEc9qLt7",
        "outputId": "3877401a-f143-4973-fb76-79fad1f8d338"
      },
      "execution_count": 1,
      "outputs": [
        {
          "output_type": "stream",
          "name": "stdout",
          "text": [
            "[10, 20, 30, 40]\n",
            "10\n",
            "20\n",
            "30\n",
            "40\n",
            "[10, 20, 30, 100]\n",
            "[20, 30, 100]\n"
          ]
        }
      ]
    }
  ]
}